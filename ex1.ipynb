{
 "cells": [
  {
   "cell_type": "code",
   "execution_count": null,
   "id": "5cbc68de-a9f3-41e8-abee-15292954043a",
   "metadata": {},
   "outputs": [],
   "source": [
    "import itertools\n",
    "import gc # for removing rdds from memory\n",
    "from pyspark import SparkContext\n",
    "\n"
   ]
  },
  {
   "cell_type": "code",
   "execution_count": null,
   "id": "52d963de-c63d-4e79-bf41-29ee838b2dac",
   "metadata": {},
   "outputs": [],
   "source": [
    "sc = SparkContext(master='local', appName=\"Assignment1_E1\")"
   ]
  },
  {
   "cell_type": "code",
   "execution_count": null,
   "id": "62fdba0c-9088-41c2-83e9-043ee639a616",
   "metadata": {},
   "outputs": [],
   "source": [
    "#hdfs dfs -mkdir -p data\n",
    "#hdfs dfs -put data/small_conditions.csv data/"
   ]
  },
  {
   "cell_type": "code",
   "execution_count": null,
   "id": "50b4d70d-ebd0-41cf-9abb-e0287cc0160b",
   "metadata": {},
   "outputs": [],
   "source": [
    "SUPPORT_THRESHOLD = 1000\n",
    "data = sc.textFile(\"data/conditions.csv.gz\")\n",
    "header = data.first() #extract header"
   ]
  },
  {
   "cell_type": "code",
   "execution_count": null,
   "id": "88201ec2",
   "metadata": {},
   "outputs": [],
   "source": [
    "# START,STOP,PATIENT,ENCOUNTER,CODE,DESCRIPTION\n",
    "# PATIENT is the patient identifier\n",
    "# CODE is a condition identifier \n",
    "# DESCRIPTION is the name of the condition"
   ]
  },
  {
   "cell_type": "code",
   "execution_count": null,
   "id": "d97fc4e1",
   "metadata": {},
   "outputs": [],
   "source": [
    "# Reorganizing the data to a list of baskets (lists)\n",
    "# and removing the header row\n",
    "lines = data.filter(lambda row: row != header) \\\n",
    "                .map(lambda line: tuple(line.split(\",\")))\n",
    "\n",
    "lines.take(3)"
   ]
  },
  {
   "cell_type": "code",
   "execution_count": null,
   "metadata": {},
   "outputs": [],
   "source": [
    "# Freeing memory\n",
    "del data\n",
    "gc.collect()"
   ]
  },
  {
   "cell_type": "code",
   "execution_count": null,
   "id": "fdaea480",
   "metadata": {},
   "outputs": [],
   "source": [
    "conditions = lines.map(lambda x: (int(x[4]), x[5])) \\\n",
    "                .distinct() \\\n",
    "                .collectAsMap()\n",
    "\n",
    "conditions"
   ]
  },
  {
   "cell_type": "code",
   "execution_count": null,
   "id": "0af2927c",
   "metadata": {},
   "outputs": [],
   "source": [
    "#conditions = dict(conditions)"
   ]
  },
  {
   "cell_type": "code",
   "execution_count": null,
   "id": "c0e2ac46",
   "metadata": {},
   "outputs": [],
   "source": [
    "item_baskets = lines.map(lambda x: (x[2], {x[4]})) \\\n",
    "                    .reduceByKey(lambda a, b: a | b) \\\n",
    "                    .map(lambda x: tuple(x[1]))\n",
    "                    \n",
    "\n",
    "item_baskets.take(10)"
   ]
  },
  {
   "cell_type": "code",
   "execution_count": null,
   "id": "b0b04794",
   "metadata": {},
   "outputs": [],
   "source": [
    "# Freeing memory\n",
    "del lines\n",
    "gc.collect()"
   ]
  },
  {
   "cell_type": "markdown",
   "id": "e6313ebd",
   "metadata": {},
   "source": [
    "## Apriori Phase 1"
   ]
  },
  {
   "cell_type": "code",
   "execution_count": null,
   "id": "0883d472-4d16-4a5f-9e62-18b2b995c61b",
   "metadata": {},
   "outputs": [],
   "source": [
    "# Flat listing all the baskets \n",
    "freqItemCounts = item_baskets.flatMap(lambda x: x) \\\n",
    "                    .map(lambda item: (item, 1)) \\\n",
    "                    .reduceByKey(lambda a, b: a + b) \\\n",
    "                    .filter(lambda item: item[1] >= SUPPORT_THRESHOLD)\n",
    "\n",
    "# Mapping -> create pairs (item, 1)\n",
    "#itemPairs = items.map(lambda item: (item, 1))\n",
    "\n",
    "# Reducing\n",
    "#itemCounts = itemPairs.reduceByKey(lambda a, b: a + b)\n",
    "\n",
    "# Keeping only the ones above the support threshold\n",
    "#freqItemCounts = itemCounts.filter(lambda item: item[1] >= SUPPORT_THRESHOLD)\n",
    "\n",
    "\n",
    "# Taking the 10 most frequent itemsets for k = 1\n",
    "freqItemCounts.takeOrdered(10, key=lambda x: -x[1])"
   ]
  },
  {
   "cell_type": "markdown",
   "id": "d625bfb6",
   "metadata": {},
   "source": [
    "## Intermediate step"
   ]
  },
  {
   "cell_type": "code",
   "execution_count": null,
   "id": "e0b2a4c2",
   "metadata": {},
   "outputs": [],
   "source": [
    "# Creating the frequent items table\n",
    "freqItemTable = freqItemCounts.map(lambda x: x[0]).collect()\n",
    "\n",
    "#freqItemTable.take(10)"
   ]
  },
  {
   "cell_type": "markdown",
   "id": "8c190970",
   "metadata": {},
   "source": [
    "## Phase 2, k = 2"
   ]
  },
  {
   "cell_type": "code",
   "execution_count": null,
   "id": "65737a3a",
   "metadata": {},
   "outputs": [],
   "source": [
    "# Receives as input: the baskets and the frequent items table\n",
    "# Returns: candidate frequent pairs\n",
    "def freq_pairs(basket,table):\n",
    "    for item_1 in range(0, len(basket)):\n",
    "        if basket[item_1] not in table:\n",
    "            continue\n",
    "        for item_2 in range(item_1 + 1, len(basket)): # j > i \n",
    "            if basket[item_2] in table:\n",
    "                yield(tuple(sorted((basket[item_1], basket[item_2]))), 1)\n"
   ]
  },
  {
   "cell_type": "code",
   "execution_count": null,
   "id": "6def5d61",
   "metadata": {},
   "outputs": [],
   "source": [
    "# Convert to a list to avoid problems due to passing a rdd to another rdd\n",
    "#table = freqItemTable.collect()\n",
    "\n",
    "# counting pairs of frequent items\n",
    "pairs = item_baskets.flatMap(lambda x: freq_pairs(x, freqItemTable)) \\\n",
    "                    .reduceByKey(lambda v1, v2: v1 + v2) \\\n",
    "                    .filter(lambda x: x[1] >= SUPPORT_THRESHOLD) \\\n",
    "                    .sortBy(lambda x: x[1], ascending=False)\n",
    "                    \n",
    "                    \n",
    "####### PERGUNTAR se fazer desta maneira é a mesma coisa que\n",
    "# fazer todas as combinações e retirar os duplicados pq os valores são os mesmos\n",
    "\n",
    "pairs.take(10)"
   ]
  },
  {
   "cell_type": "code",
   "execution_count": null,
   "id": "0064d8a9",
   "metadata": {},
   "outputs": [],
   "source": [
    "pairs.count()"
   ]
  },
  {
   "cell_type": "markdown",
   "id": "5a23ef7c",
   "metadata": {},
   "source": [
    "## Phase 2, k = 3"
   ]
  },
  {
   "cell_type": "code",
   "execution_count": null,
   "id": "8acbc84f-3de5-4b03-ac5c-403820fb864b",
   "metadata": {},
   "outputs": [],
   "source": [
    "# Receives as input: the baskets, frequent items and frequent pairs\n",
    "# Returns: candidate frequent triples\n",
    "def freq_triples(basket, table, fqt_pairs):\n",
    "    for item_1 in range(0, len(basket)):\n",
    "        if basket[item_1] not in table:\n",
    "            continue\n",
    "        for item_2 in range(item_1 + 1, len(basket)):  # j > i\n",
    "            if basket[item_2] not in table:\n",
    "                continue\n",
    "                        \n",
    "            pair = tuple(sorted((basket[item_1], basket[item_2])))\n",
    "            if pair not in fqt_pairs:  # if the pair is not frequent the triple also won't be frequent\n",
    "                continue\n",
    "            \n",
    "            for item_3 in range(item_2 + 1, len(basket)):\n",
    "                if basket[item_3] not in table:\n",
    "                    continue\n",
    "                \n",
    "                candidate_pairs = list(itertools.combinations((item_1, item_2, item_3), 2))\n",
    "\n",
    "                # if all candidate pairs are frequent pairs yield the candidate triple\n",
    "                if all(candidate_pair in fqt_pairs for candidate_pair in candidate_pairs):\n",
    "                    continue\n",
    "                    \n",
    "                yield(tuple(sorted((basket[item_1], basket[item_2], basket[item_3]))), 1)\n"
   ]
  },
  {
   "cell_type": "code",
   "execution_count": null,
   "id": "ee87e5bc",
   "metadata": {},
   "outputs": [],
   "source": [
    "frequent_pairs = pairs.flatMap(lambda x: set(x[0])).collect()\n",
    "\n",
    "frequent_pairs"
   ]
  },
  {
   "cell_type": "code",
   "execution_count": null,
   "id": "6010460a-aeb9-4043-ab60-3abaf9b4bbc9",
   "metadata": {},
   "outputs": [],
   "source": [
    "frequent_pairs = pairs.flatMap(lambda x: set(x[0])) \\\n",
    "                    .collect()\n",
    "\n",
    "triples = item_baskets.flatMap(lambda x: freq_triples(x, freqItemTable, frequent_pairs)) \\\n",
    "                    .reduceByKey(lambda v1, v2: v1 + v2) \\\n",
    "                    .filter(lambda x: x[1] >= SUPPORT_THRESHOLD) \\\n",
    "                    .sortBy(lambda x: x[1], ascending=False)\n",
    "\n",
    "triples.take(10)"
   ]
  },
  {
   "cell_type": "code",
   "execution_count": null,
   "id": "f9ad1705",
   "metadata": {},
   "outputs": [],
   "source": [
    "frequent_triples = triples.map(lambda x: x[0]).collect()\n",
    "frequent_triples"
   ]
  },
  {
   "cell_type": "markdown",
   "id": "13a653a8",
   "metadata": {},
   "source": [
    "## Mining Association Rules"
   ]
  },
  {
   "cell_type": "code",
   "execution_count": null,
   "id": "d6bf0137",
   "metadata": {},
   "outputs": [],
   "source": [
    "# joining all the frequent baskets in one list\n",
    "frequent_baskets = (freqItemCounts + pairs + triples).collect()\n",
    "frequent_baskets[0:10]"
   ]
  },
  {
   "cell_type": "code",
   "execution_count": null,
   "id": "033f5eb7",
   "metadata": {},
   "outputs": [],
   "source": [
    "# Mining for k = 2\n",
    "mapa = dict(frequent_baskets)\n",
    "\n",
    "rules = {}\n",
    "for pair in pairs.collect():\n",
    "    \n",
    "    \n",
    "    print(mapa[pair[0][0]])\n",
    "    # Rule 1  X -> Y = #(X u Y) / #X\n",
    "    confidence = int(pair[1]) / mapa[pair[0][0]]\n",
    "    rules[pair[0][0]] = (pair[0][1], confidence)\n",
    "    \n",
    "    print(mapa[pair[0][1]])\n",
    "    # Rule 2  Y -> X = #(X u Y) / #Y\n",
    "    confidence = int(pair[1]) / mapa[pair[0][1]]\n",
    "    rules[pair[0][1]] = (pair[0][0], confidence)\n",
    "\n",
    "#rules\n"
   ]
  },
  {
   "cell_type": "code",
   "execution_count": null,
   "id": "85967f24",
   "metadata": {},
   "outputs": [],
   "source": [
    "for triple in triples.collect():\n",
    "    pass"
   ]
  },
  {
   "cell_type": "code",
   "execution_count": null,
   "id": "9a17f5f7",
   "metadata": {},
   "outputs": [],
   "source": []
  }
 ],
 "metadata": {
  "kernelspec": {
   "display_name": "Python 3 (ipykernel)",
   "language": "python",
   "name": "python3"
  },
  "language_info": {
   "codemirror_mode": {
    "name": "ipython",
    "version": 3
   },
   "file_extension": ".py",
   "mimetype": "text/x-python",
   "name": "python",
   "nbconvert_exporter": "python",
   "pygments_lexer": "ipython3",
   "version": "3.8.2"
  }
 },
 "nbformat": 4,
 "nbformat_minor": 5
}
