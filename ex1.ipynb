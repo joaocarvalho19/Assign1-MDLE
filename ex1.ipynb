{
 "cells": [
  {
   "cell_type": "code",
   "execution_count": 1,
   "id": "5cbc68de-a9f3-41e8-abee-15292954043a",
   "metadata": {},
   "outputs": [],
   "source": [
    "from pyspark import SparkContext"
   ]
  },
  {
   "cell_type": "code",
   "execution_count": 2,
   "id": "52d963de-c63d-4e79-bf41-29ee838b2dac",
   "metadata": {},
   "outputs": [],
   "source": [
    "sc = SparkContext(appName=\"Assignment1\")"
   ]
  },
  {
   "cell_type": "code",
   "execution_count": null,
   "id": "62fdba0c-9088-41c2-83e9-043ee639a616",
   "metadata": {},
   "outputs": [],
   "source": [
    "#hdfs dfs -mkdir -p data\n",
    "#hdfs dfs -put data/small_conditions.csv data/"
   ]
  },
  {
   "cell_type": "code",
   "execution_count": 78,
   "id": "50b4d70d-ebd0-41cf-9abb-e0287cc0160b",
   "metadata": {},
   "outputs": [],
   "source": [
    "SUPPORT_THRESHOLD = 6\n",
    "data = sc.textFile(\"data/small_conditions.csv\")\n",
    "header = data.first() #extract header"
   ]
  },
  {
   "cell_type": "code",
   "execution_count": 79,
   "id": "178e1ae1-b586-4933-9eac-a8f6a99372a9",
   "metadata": {},
   "outputs": [],
   "source": [
    "# Mapping patient diseases\n",
    "baskets = data.map(lambda line: line.split(\",\")) \\\n",
    "                        .map(lambda pair: (pair[2],[pair[4]])) \\\n",
    "                        .reduceByKey(lambda a,b: a+b)"
   ]
  },
  {
   "cell_type": "code",
   "execution_count": 80,
   "id": "970ded0b-dd3d-4ddb-b7be-0f6701c94dbe",
   "metadata": {},
   "outputs": [],
   "source": [
    "# Get most frequent items\n",
    "items = data.filter(lambda row : row != header)\\\n",
    "            .flatMap(lambda line: line.split(\",\"))\\\n",
    "            .map(lambda item: (item, 1))\\\n",
    "            .reduceByKey(lambda a, b: a + b)"
   ]
  },
  {
   "cell_type": "code",
   "execution_count": 81,
   "id": "cce0576c-4104-4fda-9121-9ad72d79dbc1",
   "metadata": {},
   "outputs": [
    {
     "data": {
      "text/plain": [
       "[('', 783),\n",
       " ('444814009', 320),\n",
       " ('Viral sinusitis (disorder)', 320),\n",
       " ('195662009', 193),\n",
       " ('Acute viral pharyngitis (disorder)', 193),\n",
       " ('10509002', 143),\n",
       " ('Acute bronchitis (disorder)', 143),\n",
       " ('72892002', 142),\n",
       " ('Normal pregnancy', 142),\n",
       " ('Body mass index 30+ - obesity (finding)', 90)]"
      ]
     },
     "execution_count": 81,
     "metadata": {},
     "output_type": "execute_result"
    }
   ],
   "source": [
    "items.takeOrdered(10, key=lambda x: -x[1]) #Most frequent items"
   ]
  },
  {
   "cell_type": "code",
   "execution_count": 82,
   "id": "c36180f9-f7c6-4085-811c-d38bf68f0099",
   "metadata": {},
   "outputs": [
    {
     "data": {
      "text/plain": [
       "[('PATIENT', ['CODE']),\n",
       " ('5420ae87-24c8-4ed4-ad14-041d15aadae9',\n",
       "  ['446096008',\n",
       "   '284551006',\n",
       "   '283371005',\n",
       "   '72892002',\n",
       "   '444814009',\n",
       "   '195662009']),\n",
       " ('90f0b8d0-3888-415f-8234-d68f7beab894',\n",
       "  ['444814009',\n",
       "   '72892002',\n",
       "   '307731004',\n",
       "   '195662009',\n",
       "   '44465007',\n",
       "   '10509002',\n",
       "   '10509002',\n",
       "   '72892002']),\n",
       " ('3826037f-19e0-4c7b-98e5-4e9578472f67',\n",
       "  ['24079001', '162864005', '55822004', '65966004']),\n",
       " ('b295d437-e4a3-4699-9e96-e4a29d5f7aa1',\n",
       "  ['40055000', '59621000', '162864005', '70704007', '64859006', '444814009'])]"
      ]
     },
     "execution_count": 82,
     "metadata": {},
     "output_type": "execute_result"
    }
   ],
   "source": [
    "baskets.take(5)"
   ]
  },
  {
   "cell_type": "code",
   "execution_count": null,
   "id": "c28f2a9e-8195-40e1-89f0-eed336253d35",
   "metadata": {},
   "outputs": [],
   "source": []
  }
 ],
 "metadata": {
  "kernelspec": {
   "display_name": "Python 3 (ipykernel)",
   "language": "python",
   "name": "python3"
  },
  "language_info": {
   "codemirror_mode": {
    "name": "ipython",
    "version": 3
   },
   "file_extension": ".py",
   "mimetype": "text/x-python",
   "name": "python",
   "nbconvert_exporter": "python",
   "pygments_lexer": "ipython3",
   "version": "3.9.10"
  }
 },
 "nbformat": 4,
 "nbformat_minor": 5
}
