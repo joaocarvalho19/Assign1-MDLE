{
 "cells": [
  {
   "cell_type": "code",
   "execution_count": 117,
   "id": "5cbc68de-a9f3-41e8-abee-15292954043a",
   "metadata": {},
   "outputs": [],
   "source": [
    "import itertools\n",
    "from pyspark import SparkContext"
   ]
  },
  {
   "cell_type": "code",
   "execution_count": 118,
   "id": "52d963de-c63d-4e79-bf41-29ee838b2dac",
   "metadata": {},
   "outputs": [
    {
     "ename": "ValueError",
     "evalue": "Cannot run multiple SparkContexts at once; existing SparkContext(app=Assignment1_E1, master=local) created by __init__ at /var/folders/_l/6yn52l4165j2hbxlxj7ct8640000gn/T/ipykernel_47153/3017175912.py:1 ",
     "output_type": "error",
     "traceback": [
      "\u001b[0;31m---------------------------------------------------------------------------\u001b[0m",
      "\u001b[0;31mValueError\u001b[0m                                Traceback (most recent call last)",
      "\u001b[0;32m/var/folders/_l/6yn52l4165j2hbxlxj7ct8640000gn/T/ipykernel_47153/3017175912.py\u001b[0m in \u001b[0;36m<module>\u001b[0;34m\u001b[0m\n\u001b[0;32m----> 1\u001b[0;31m \u001b[0msc\u001b[0m \u001b[0;34m=\u001b[0m \u001b[0mSparkContext\u001b[0m\u001b[0;34m(\u001b[0m\u001b[0mmaster\u001b[0m\u001b[0;34m=\u001b[0m\u001b[0;34m'local'\u001b[0m\u001b[0;34m,\u001b[0m \u001b[0mappName\u001b[0m\u001b[0;34m=\u001b[0m\u001b[0;34m\"Assignment1_E1\"\u001b[0m\u001b[0;34m)\u001b[0m\u001b[0;34m\u001b[0m\u001b[0;34m\u001b[0m\u001b[0m\n\u001b[0m",
      "\u001b[0;32m~/opt/anaconda3/lib/python3.8/site-packages/pyspark/context.py\u001b[0m in \u001b[0;36m__init__\u001b[0;34m(self, master, appName, sparkHome, pyFiles, environment, batchSize, serializer, conf, gateway, jsc, profiler_cls)\u001b[0m\n\u001b[1;32m    142\u001b[0m                 \" is not allowed as it is a security risk.\")\n\u001b[1;32m    143\u001b[0m \u001b[0;34m\u001b[0m\u001b[0m\n\u001b[0;32m--> 144\u001b[0;31m         \u001b[0mSparkContext\u001b[0m\u001b[0;34m.\u001b[0m\u001b[0m_ensure_initialized\u001b[0m\u001b[0;34m(\u001b[0m\u001b[0mself\u001b[0m\u001b[0;34m,\u001b[0m \u001b[0mgateway\u001b[0m\u001b[0;34m=\u001b[0m\u001b[0mgateway\u001b[0m\u001b[0;34m,\u001b[0m \u001b[0mconf\u001b[0m\u001b[0;34m=\u001b[0m\u001b[0mconf\u001b[0m\u001b[0;34m)\u001b[0m\u001b[0;34m\u001b[0m\u001b[0;34m\u001b[0m\u001b[0m\n\u001b[0m\u001b[1;32m    145\u001b[0m         \u001b[0;32mtry\u001b[0m\u001b[0;34m:\u001b[0m\u001b[0;34m\u001b[0m\u001b[0;34m\u001b[0m\u001b[0m\n\u001b[1;32m    146\u001b[0m             self._do_init(master, appName, sparkHome, pyFiles, environment, batchSize, serializer,\n",
      "\u001b[0;32m~/opt/anaconda3/lib/python3.8/site-packages/pyspark/context.py\u001b[0m in \u001b[0;36m_ensure_initialized\u001b[0;34m(cls, instance, gateway, conf)\u001b[0m\n\u001b[1;32m    348\u001b[0m \u001b[0;34m\u001b[0m\u001b[0m\n\u001b[1;32m    349\u001b[0m                     \u001b[0;31m# Raise error if there is already a running Spark context\u001b[0m\u001b[0;34m\u001b[0m\u001b[0;34m\u001b[0m\u001b[0;34m\u001b[0m\u001b[0m\n\u001b[0;32m--> 350\u001b[0;31m                     raise ValueError(\n\u001b[0m\u001b[1;32m    351\u001b[0m                         \u001b[0;34m\"Cannot run multiple SparkContexts at once; \"\u001b[0m\u001b[0;34m\u001b[0m\u001b[0;34m\u001b[0m\u001b[0m\n\u001b[1;32m    352\u001b[0m                         \u001b[0;34m\"existing SparkContext(app=%s, master=%s)\"\u001b[0m\u001b[0;34m\u001b[0m\u001b[0;34m\u001b[0m\u001b[0m\n",
      "\u001b[0;31mValueError\u001b[0m: Cannot run multiple SparkContexts at once; existing SparkContext(app=Assignment1_E1, master=local) created by __init__ at /var/folders/_l/6yn52l4165j2hbxlxj7ct8640000gn/T/ipykernel_47153/3017175912.py:1 "
     ]
    }
   ],
   "source": [
    "sc = SparkContext(master='local', appName=\"Assignment1_E1\")"
   ]
  },
  {
   "cell_type": "code",
   "execution_count": null,
   "id": "62fdba0c-9088-41c2-83e9-043ee639a616",
   "metadata": {},
   "outputs": [],
   "source": [
    "#hdfs dfs -mkdir -p data\n",
    "#hdfs dfs -put data/small_conditions.csv data/"
   ]
  },
  {
   "cell_type": "code",
   "execution_count": 119,
   "id": "50b4d70d-ebd0-41cf-9abb-e0287cc0160b",
   "metadata": {},
   "outputs": [],
   "source": [
    "SUPPORT_THRESHOLD = 20\n",
    "data = sc.textFile(\"data/small_conditions.csv\")\n",
    "header = data.first() #extract header"
   ]
  },
  {
   "cell_type": "code",
   "execution_count": 120,
   "id": "88201ec2",
   "metadata": {},
   "outputs": [],
   "source": [
    "# START,STOP,PATIENT,ENCOUNTER,CODE,DESCRIPTION\n",
    "# PATIENT is the patient identifier\n",
    "# CODE is a condition identifier \n",
    "# DESCRIPTION is the name of the condition"
   ]
  },
  {
   "cell_type": "code",
   "execution_count": 121,
   "id": "d97fc4e1",
   "metadata": {},
   "outputs": [
    {
     "data": {
      "text/plain": [
       "[('2017-01-14',\n",
       "  '2017-03-30',\n",
       "  '09e4e8cb-29c2-4ef4-86c0-a6ff0ba25d2a',\n",
       "  '88e540ab-a7d7-47de-93c1-720a06f3d601',\n",
       "  '65363002',\n",
       "  'Otitis media'),\n",
       " ('2012-09-15',\n",
       "  '2012-09-16',\n",
       "  'b0a03e8c-8d0f-4242-9548-40f4d294eba8',\n",
       "  'e89414dc-d0c6-478f-86c0-d08bac6ad0a2',\n",
       "  '241929008',\n",
       "  'Acute allergic reaction'),\n",
       " ('2018-06-17',\n",
       "  '2018-06-24',\n",
       "  '09e4e8cb-29c2-4ef4-86c0-a6ff0ba25d2a',\n",
       "  'c14325b0-f7ec-4314-bba8-dddc37f0067d',\n",
       "  '444814009',\n",
       "  'Viral sinusitis (disorder)')]"
      ]
     },
     "execution_count": 121,
     "metadata": {},
     "output_type": "execute_result"
    }
   ],
   "source": [
    "# Reorganizing the data to a list of baskets (lists)\n",
    "# and removing the header row\n",
    "item_baskets = data.filter(lambda row: row != header)\\\n",
    "    .map(lambda line: tuple(line.split(\",\")))\n",
    "\n",
    "item_baskets.take(3)"
   ]
  },
  {
   "cell_type": "markdown",
   "id": "e6313ebd",
   "metadata": {},
   "source": [
    "## Apriori Phase 1"
   ]
  },
  {
   "cell_type": "code",
   "execution_count": 122,
   "id": "0883d472-4d16-4a5f-9e62-18b2b995c61b",
   "metadata": {},
   "outputs": [
    {
     "data": {
      "text/plain": [
       "[('', 783),\n",
       " ('444814009', 320),\n",
       " ('Viral sinusitis (disorder)', 320),\n",
       " ('195662009', 193),\n",
       " ('Acute viral pharyngitis (disorder)', 193),\n",
       " ('10509002', 143),\n",
       " ('Acute bronchitis (disorder)', 143),\n",
       " ('72892002', 142),\n",
       " ('Normal pregnancy', 142),\n",
       " ('162864005', 90)]"
      ]
     },
     "execution_count": 122,
     "metadata": {},
     "output_type": "execute_result"
    }
   ],
   "source": [
    "# Flat listing all the baskets \n",
    "items = item_baskets.flatMap(lambda x: x)\n",
    "\n",
    "# Mapping -> create pairs (item, 1)\n",
    "itemPairs = items.map(lambda item: (item, 1))\n",
    "\n",
    "# Reducing\n",
    "itemCounts = itemPairs.reduceByKey(lambda a, b: a + b)\n",
    "\n",
    "# Keeping only the ones above the support threshold\n",
    "freqItemCounts = itemCounts.filter(lambda item: item[1] >= SUPPORT_THRESHOLD)\n",
    "\n",
    "#items.take(10)\n",
    "#itemPairs.take(10)\n",
    "#itemCounts.take(10)\n",
    "\n",
    "# Taking the 10 most frequent itemsets for k = 1\n",
    "freqItemCounts.takeOrdered(10, key=lambda x: -x[1])"
   ]
  },
  {
   "cell_type": "markdown",
   "id": "d625bfb6",
   "metadata": {},
   "source": [
    "## Intermediate step"
   ]
  },
  {
   "cell_type": "code",
   "execution_count": 123,
   "id": "e0b2a4c2",
   "metadata": {},
   "outputs": [
    {
     "data": {
      "text/plain": [
       "['65363002',\n",
       " 'Otitis media',\n",
       " '444814009',\n",
       " 'Viral sinusitis (disorder)',\n",
       " '10509002',\n",
       " 'Acute bronchitis (disorder)',\n",
       " '',\n",
       " '195662009',\n",
       " 'Acute viral pharyngitis (disorder)',\n",
       " '72892002']"
      ]
     },
     "execution_count": 123,
     "metadata": {},
     "output_type": "execute_result"
    }
   ],
   "source": [
    "# Creating the frequent items table\n",
    "freqItemTable = freqItemCounts.map(lambda x: x[0])\n",
    "\n",
    "freqItemTable.take(10)"
   ]
  },
  {
   "cell_type": "markdown",
   "id": "8c190970",
   "metadata": {},
   "source": [
    "## Phase 2, k = 2"
   ]
  },
  {
   "cell_type": "code",
   "execution_count": 124,
   "id": "65737a3a",
   "metadata": {},
   "outputs": [],
   "source": [
    "# Receives as input: the baskets and the frequent items table\n",
    "# Returns: candidate frequent pairs\n",
    "def freq_pairs(basket,table):\n",
    "    for item_1 in range(0, len(basket)):\n",
    "        if basket[item_1] not in table:\n",
    "            continue\n",
    "        for item_2 in range(item_1 + 1, len(basket)): # j > i \n",
    "            if basket[item_2] in table:\n",
    "                yield(tuple(sorted((basket[item_1], basket[item_2]))), 1)\n"
   ]
  },
  {
   "cell_type": "code",
   "execution_count": 125,
   "id": "6def5d61",
   "metadata": {},
   "outputs": [
    {
     "data": {
      "text/plain": [
       "[(('444814009', 'Viral sinusitis (disorder)'), 320),\n",
       " (('195662009', 'Acute viral pharyngitis (disorder)'), 193),\n",
       " (('10509002', 'Acute bronchitis (disorder)'), 143),\n",
       " (('72892002', 'Normal pregnancy'), 142),\n",
       " (('', '162864005'), 90),\n",
       " (('', 'Body mass index 30+ - obesity (finding)'), 90),\n",
       " (('162864005', 'Body mass index 30+ - obesity (finding)'), 90),\n",
       " (('271737000', 'Anemia (disorder)'), 81),\n",
       " (('', '15777000'), 76),\n",
       " (('', 'Prediabetes'), 76)]"
      ]
     },
     "execution_count": 125,
     "metadata": {},
     "output_type": "execute_result"
    }
   ],
   "source": [
    "# Convert to a list to avoid problems due to passing a rdd to another rdd\n",
    "table = freqItemTable.collect()\n",
    "\n",
    "# counting pairs of frequent items\n",
    "pairs = item_baskets.flatMap(lambda x: freq_pairs(x, table)) \\\n",
    "                    .reduceByKey(lambda v1, v2: v1 + v2) \\\n",
    "                    .filter(lambda x: x[1] >= SUPPORT_THRESHOLD) \\\n",
    "                    .sortBy(lambda x: x[1], ascending=False)\n",
    "                    \n",
    "                    \n",
    "####### PERGUNTAR se fazer desta maneira é a mesma coisa que\n",
    "# fazer todas as combinações e retirar os duplicados pq os valores são os mesmos\n",
    "\n",
    "pairs.take(10)"
   ]
  },
  {
   "cell_type": "markdown",
   "id": "5a23ef7c",
   "metadata": {},
   "source": [
    "## Phase 2, k = 3"
   ]
  },
  {
   "cell_type": "code",
   "execution_count": 126,
   "id": "8acbc84f-3de5-4b03-ac5c-403820fb864b",
   "metadata": {},
   "outputs": [],
   "source": [
    "# Receives as input: the baskets, frequent items and frequent pairs\n",
    "# Returns: candidate frequent triples\n",
    "def freq_triples(basket, table, fqt_pairs):\n",
    "    for item_1 in range(0, len(basket)):\n",
    "        if basket[item_1] not in table:\n",
    "            continue\n",
    "        for item_2 in range(item_1 + 1, len(basket)):  # j > i\n",
    "            if basket[item_2] not in table:\n",
    "                continue\n",
    "                        \n",
    "            pair = tuple(sorted((basket[item_1], basket[item_2])))\n",
    "            if pair not in fqt_pairs:\n",
    "                continue\n",
    "            \n",
    "            for item_3 in range(item_2 + 1, len(basket)):\n",
    "                if basket[item_3] not in table:\n",
    "                    continue\n",
    "                \n",
    "                candidate_pairs = list(itertools.combinations((item_1, item_2, item_3), 2))\n",
    "\n",
    "                # if all candidate pairs are frequent pairs yield the candidate triple\n",
    "                if all(candidate_pair in fqt_pairs for candidate_pair in candidate_pairs):\n",
    "                    continue\n",
    "                    \n",
    "                yield(tuple(sorted((basket[item_1], basket[item_2], basket[item_3]))), 1)\n"
   ]
  },
  {
   "cell_type": "code",
   "execution_count": 127,
   "id": "6010460a-aeb9-4043-ab60-3abaf9b4bbc9",
   "metadata": {},
   "outputs": [
    {
     "data": {
      "text/plain": [
       "[(('', '162864005', 'Body mass index 30+ - obesity (finding)'), 90),\n",
       " (('', '15777000', 'Prediabetes'), 76),\n",
       " (('', '271737000', 'Anemia (disorder)'), 75),\n",
       " (('', '59621000', 'Hypertension'), 62),\n",
       " (('', '40055000', 'Chronic sinusitis (disorder)'), 53),\n",
       " (('', '19169002', 'Miscarriage in first trimester'), 40),\n",
       " (('', '55822004', 'Hyperlipidemia'), 24)]"
      ]
     },
     "execution_count": 127,
     "metadata": {},
     "output_type": "execute_result"
    }
   ],
   "source": [
    "frequent_pairs = pairs.map(lambda x: x[0]).collect()\n",
    "\n",
    "triples = item_baskets.flatMap(lambda x: freq_triples(x, table, frequent_pairs)) \\\n",
    "                    .reduceByKey(lambda v1, v2: v1 + v2) \\\n",
    "                    .filter(lambda x: x[1] >= SUPPORT_THRESHOLD) \\\n",
    "                    .sortBy(lambda x: x[1], ascending=False)\n",
    "\n",
    "triples.collect()"
   ]
  },
  {
   "cell_type": "code",
   "execution_count": null,
   "id": "13a653a8",
   "metadata": {},
   "outputs": [],
   "source": []
  }
 ],
 "metadata": {
  "kernelspec": {
   "display_name": "Python 3 (ipykernel)",
   "language": "python",
   "name": "python3"
  },
  "language_info": {
   "codemirror_mode": {
    "name": "ipython",
    "version": 3
   },
   "file_extension": ".py",
   "mimetype": "text/x-python",
   "name": "python",
   "nbconvert_exporter": "python",
   "pygments_lexer": "ipython3",
   "version": "3.8.2"
  }
 },
 "nbformat": 4,
 "nbformat_minor": 5
}
