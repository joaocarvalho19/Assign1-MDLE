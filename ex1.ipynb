{
 "cells": [
  {
   "cell_type": "code",
   "execution_count": 1,
   "id": "5cbc68de-a9f3-41e8-abee-15292954043a",
   "metadata": {},
   "outputs": [],
   "source": [
    "import itertools\n",
    "import gc # for removing rdds from memory\n",
    "import pandas as pd\n",
    "import numpy as np\n",
    "from pyspark import SparkContext"
   ]
  },
  {
   "cell_type": "code",
   "execution_count": 2,
   "id": "52d963de-c63d-4e79-bf41-29ee838b2dac",
   "metadata": {},
   "outputs": [
    {
     "name": "stderr",
     "output_type": "stream",
     "text": [
      "22/04/24 18:37:33 WARN Utils: Your hostname, Luiss-MacBook-Pro.local resolves to a loopback address: 127.0.0.1; using 192.168.0.126 instead (on interface en0)\n",
      "22/04/24 18:37:33 WARN Utils: Set SPARK_LOCAL_IP if you need to bind to another address\n",
      "WARNING: An illegal reflective access operation has occurred\n",
      "WARNING: Illegal reflective access by org.apache.spark.unsafe.Platform (file:/Users/luismiguel/opt/anaconda3/lib/python3.8/site-packages/pyspark/jars/spark-unsafe_2.12-3.2.1.jar) to constructor java.nio.DirectByteBuffer(long,int)\n",
      "WARNING: Please consider reporting this to the maintainers of org.apache.spark.unsafe.Platform\n",
      "WARNING: Use --illegal-access=warn to enable warnings of further illegal reflective access operations\n",
      "WARNING: All illegal access operations will be denied in a future release\n",
      "Using Spark's default log4j profile: org/apache/spark/log4j-defaults.properties\n",
      "Setting default log level to \"WARN\".\n",
      "To adjust logging level use sc.setLogLevel(newLevel). For SparkR, use setLogLevel(newLevel).\n",
      "22/04/24 18:37:33 WARN NativeCodeLoader: Unable to load native-hadoop library for your platform... using builtin-java classes where applicable\n"
     ]
    }
   ],
   "source": [
    "sc = SparkContext(master='local', appName=\"Assignment1_E1\")"
   ]
  },
  {
   "cell_type": "code",
   "execution_count": 3,
   "id": "62fdba0c-9088-41c2-83e9-043ee639a616",
   "metadata": {},
   "outputs": [],
   "source": [
    "#hdfs dfs -mkdir -p data\n",
    "#hdfs dfs -put data/small_conditions.csv data/"
   ]
  },
  {
   "cell_type": "code",
   "execution_count": 40,
   "id": "50b4d70d-ebd0-41cf-9abb-e0287cc0160b",
   "metadata": {},
   "outputs": [
    {
     "name": "stderr",
     "output_type": "stream",
     "text": [
      "                                                                                \r"
     ]
    }
   ],
   "source": [
    "SUPPORT_THRESHOLD = 1000\n",
    "data = sc.textFile(\"data/conditions.csv.gz\")\n",
    "header = data.first() #extract header"
   ]
  },
  {
   "cell_type": "code",
   "execution_count": 41,
   "id": "88201ec2",
   "metadata": {},
   "outputs": [],
   "source": [
    "# START,STOP,PATIENT,ENCOUNTER,CODE,DESCRIPTION\n",
    "# PATIENT is the patient identifier\n",
    "# CODE is a condition identifier \n",
    "# DESCRIPTION is the name of the condition"
   ]
  },
  {
   "cell_type": "code",
   "execution_count": 42,
   "id": "d97fc4e1",
   "metadata": {},
   "outputs": [
    {
     "name": "stderr",
     "output_type": "stream",
     "text": [
      "                                                                                \r"
     ]
    },
    {
     "data": {
      "text/plain": [
       "[('2017-01-14',\n",
       "  '2017-03-30',\n",
       "  '09e4e8cb-29c2-4ef4-86c0-a6ff0ba25d2a',\n",
       "  '88e540ab-a7d7-47de-93c1-720a06f3d601',\n",
       "  '65363002',\n",
       "  'Otitis media'),\n",
       " ('2012-09-15',\n",
       "  '2012-09-16',\n",
       "  'b0a03e8c-8d0f-4242-9548-40f4d294eba8',\n",
       "  'e89414dc-d0c6-478f-86c0-d08bac6ad0a2',\n",
       "  '241929008',\n",
       "  'Acute allergic reaction'),\n",
       " ('2018-06-17',\n",
       "  '2018-06-24',\n",
       "  '09e4e8cb-29c2-4ef4-86c0-a6ff0ba25d2a',\n",
       "  'c14325b0-f7ec-4314-bba8-dddc37f0067d',\n",
       "  '444814009',\n",
       "  'Viral sinusitis (disorder)')]"
      ]
     },
     "execution_count": 42,
     "metadata": {},
     "output_type": "execute_result"
    }
   ],
   "source": [
    "# Reorganizing the data to a list of baskets (lists)\n",
    "# and removing the header row\n",
    "lines = data.filter(lambda row: row != header) \\\n",
    "                .map(lambda line: tuple(line.split(\",\")))\n",
    "\n",
    "lines.take(3)"
   ]
  },
  {
   "cell_type": "code",
   "execution_count": 35,
   "id": "6b4ed9b8",
   "metadata": {},
   "outputs": [
    {
     "data": {
      "text/plain": [
       "115"
      ]
     },
     "execution_count": 35,
     "metadata": {},
     "output_type": "execute_result"
    }
   ],
   "source": [
    "# Freeing memory\n",
    "del data\n",
    "gc.collect()"
   ]
  },
  {
   "cell_type": "code",
   "execution_count": 36,
   "id": "fdaea480",
   "metadata": {},
   "outputs": [
    {
     "name": "stderr",
     "output_type": "stream",
     "text": [
      "                                                                                \r"
     ]
    }
   ],
   "source": [
    "conditions = lines.map(lambda x: (int(x[4]), x[5])) \\\n",
    "                .distinct() \\\n",
    "                .collectAsMap()\n",
    "\n",
    "#conditions"
   ]
  },
  {
   "cell_type": "code",
   "execution_count": 37,
   "id": "9641e1c7",
   "metadata": {},
   "outputs": [
    {
     "data": {
      "text/plain": [
       "{65363002: 'Otitis media',\n",
       " 241929008: 'Acute allergic reaction',\n",
       " 444814009: 'Viral sinusitis (disorder)',\n",
       " 33737001: 'Fracture of rib',\n",
       " 10509002: 'Acute bronchitis (disorder)',\n",
       " 233678006: 'Childhood asthma',\n",
       " 195662009: 'Acute viral pharyngitis (disorder)',\n",
       " 232353008: 'Perennial allergic rhinitis with seasonal variation',\n",
       " 446096008: 'Perennial allergic rhinitis',\n",
       " 284551006: 'Laceration of foot',\n",
       " 283371005: 'Laceration of forearm',\n",
       " 72892002: 'Normal pregnancy',\n",
       " 162864005: 'Body mass index 30+ - obesity (finding)',\n",
       " 283385000: 'Laceration of thigh',\n",
       " 239873007: 'Osteoarthritis of knee',\n",
       " 19169002: 'Miscarriage in first trimester',\n",
       " 156073000: 'Fetus with unknown complication',\n",
       " 410429000: 'Cardiac Arrest',\n",
       " 429007001: 'History of cardiac arrest (situation)',\n",
       " 55822004: 'Hyperlipidemia',\n",
       " 307731004: 'Injury of tendon of the rotator cuff of shoulder',\n",
       " 68496003: 'Polyp of colon',\n",
       " 44465007: 'Sprain of ankle',\n",
       " 713197008: 'Recurrent rectal polyp',\n",
       " 36971009: 'Sinusitis (disorder)',\n",
       " 24079001: 'Atopic dermatitis',\n",
       " 65966004: 'Fracture of forearm',\n",
       " 40055000: 'Chronic sinusitis (disorder)',\n",
       " 59621000: 'Hypertension',\n",
       " 82423001: 'Chronic pain',\n",
       " 15777000: 'Prediabetes',\n",
       " 70704007: 'Sprain of wrist',\n",
       " 64859006: 'Osteoporosis (disorder)',\n",
       " 75498004: 'Acute bacterial sinusitis (disorder)',\n",
       " 43878008: 'Streptococcal sore throat (disorder)',\n",
       " 39848009: 'Whiplash injury to neck',\n",
       " 110030002: 'Concussion injury of brain',\n",
       " 284549007: 'Laceration of hand',\n",
       " 58150001: 'Fracture of clavicle',\n",
       " 53741008: 'Coronary Heart Disease',\n",
       " 198992004: 'Antepartum eclampsia',\n",
       " 271737000: 'Anemia (disorder)',\n",
       " 16114001: 'Fracture of ankle',\n",
       " 124171000119105: 'Chronic intractable migraine without aura',\n",
       " 196416002: 'Impacted molars',\n",
       " 55680006: 'Drug overdose',\n",
       " 370247008: 'Facial laceration',\n",
       " 40275004: 'Contact dermatitis',\n",
       " 230690007: 'Stroke',\n",
       " 62106007: 'Concussion with no loss of consciousness',\n",
       " 83664006: 'Idiopathic atrophic hypothyroidism',\n",
       " 128613002: 'Seizure disorder',\n",
       " 703151001: 'History of single seizure (situation)',\n",
       " 370143000: 'Major depression disorder',\n",
       " 49436004: 'Atrial Fibrillation',\n",
       " 126906006: 'Neoplasm of prostate',\n",
       " 92691004: 'Carcinoma in situ of prostate (disorder)',\n",
       " 403190006: 'First degree burn',\n",
       " 65275009: 'Acute Cholecystitis',\n",
       " 235919008: 'Cholelithiasis',\n",
       " 162573006: 'Suspected lung cancer (situation)',\n",
       " 254632001: 'Small cell carcinoma of lung (disorder)',\n",
       " 67811000119102: 'Primary small cell malignant neoplasm of lung  TNM stage 1 (disorder)',\n",
       " 192127007: 'Child attention deficit disorder',\n",
       " 263102004: 'Fracture subluxation of wrist',\n",
       " 359817006: 'Closed fracture of hip',\n",
       " 38822007: 'Cystitis',\n",
       " 26929004: \"Alzheimer's disease (disorder)\",\n",
       " 35999006: 'Blighted ovum',\n",
       " 398254007: 'Preeclampsia',\n",
       " 79586000: 'Tubal pregnancy',\n",
       " 408512008: 'Body mass index 40+ - severely obese (finding)',\n",
       " 239872002: 'Osteoarthritis of hip',\n",
       " 88805009: 'Chronic congestive heart failure (disorder)',\n",
       " 707577004: 'Female Infertility',\n",
       " 190905008: 'Cystic Fibrosis',\n",
       " 427089005: 'Male Infertility',\n",
       " 44054006: 'Diabetes',\n",
       " 302870006: 'Hypertriglyceridemia (disorder)',\n",
       " 65710008: 'Acute respiratory failure (disorder)',\n",
       " 47200007: 'Non-low risk pregnancy',\n",
       " 74400008: 'Appendicitis',\n",
       " 428251008: 'History of appendectomy',\n",
       " 254837009: 'Malignant neoplasm of breast (disorder)',\n",
       " 62564004: 'Concussion with loss of consciousness',\n",
       " 109838007: 'Overlapping malignant neoplasm of colon',\n",
       " 237602007: 'Metabolic syndrome X (disorder)',\n",
       " 422034002: 'Diabetic retinopathy associated with type II diabetes mellitus (disorder)',\n",
       " 80394007: 'Hyperglycemia (disorder)',\n",
       " 201834006: 'Localized  primary osteoarthritis of the hand',\n",
       " 367498001: 'Seasonal allergic rhinitis',\n",
       " 84757009: 'Epilepsy',\n",
       " 363406005: 'Malignant tumor of colon',\n",
       " 443165006: 'Pathological fracture due to osteoporosis (disorder)',\n",
       " 449868002: 'Smokes tobacco daily',\n",
       " 262574004: 'Bullet wound',\n",
       " 47693006: 'Rupture of appendix',\n",
       " 5602001: 'Opioid abuse (disorder)',\n",
       " 7200002: 'Alcoholism',\n",
       " 444470001: 'Injury of anterior cruciate ligament',\n",
       " 444448004: 'Injury of medial collateral ligament of knee',\n",
       " 403191005: 'Second degree burn',\n",
       " 368581000119106: 'Neuropathy due to type 2 diabetes mellitus (disorder)',\n",
       " 87433001: 'Pulmonary emphysema (disorder)',\n",
       " 90560007: 'Gout',\n",
       " 230265002: \"Familial Alzheimer's disease of early onset (disorder)\",\n",
       " 233604007: 'Pneumonia',\n",
       " 22298006: 'Myocardial Infarction',\n",
       " 399211009: 'History of myocardial infarction (situation)',\n",
       " 431855005: 'Chronic kidney disease stage 1 (disorder)',\n",
       " 127013003: 'Diabetic renal disease (disorder)',\n",
       " 185086009: 'Chronic obstructive bronchitis (disorder)',\n",
       " 301011002: 'Escherichia coli urinary tract infection',\n",
       " 47505003: 'Posttraumatic stress disorder',\n",
       " 6072007: 'Bleeding from anus',\n",
       " 236077008: 'Protracted diarrhea',\n",
       " 275272006: 'Brain damage - traumatic',\n",
       " 48333001: 'Burn injury(morphologic abnormality)',\n",
       " 254637007: 'Non-small cell lung cancer (disorder)',\n",
       " 424132000: 'Non-small cell carcinoma of lung  TNM stage 1 (disorder)',\n",
       " 1734006: 'Fracture of the vertebral column with spinal cord injury',\n",
       " 95417003: 'Primary fibromyalgia syndrome',\n",
       " 1551000119108: 'Nonproliferative diabetic retinopathy due to type 2 diabetes mellitus (disorder)',\n",
       " 431856006: 'Chronic kidney disease stage 2 (disorder)',\n",
       " 90781000119102: 'Microalbuminuria due to type 2 diabetes mellitus (disorder)',\n",
       " 93761005: 'Primary malignant neoplasm of colon',\n",
       " 197927001: 'Recurrent urinary tract infection',\n",
       " 195967001: 'Asthma',\n",
       " 403192003: 'Third degree burn',\n",
       " 69896004: 'Rheumatoid arthritis',\n",
       " 30832001: 'Rupture of patellar tendon',\n",
       " 239720000: 'Tear of meniscus of knee',\n",
       " 97331000119101: 'Macular edema and retinopathy due to type 2 diabetes mellitus (disorder)',\n",
       " 1501000119109: 'Proliferative diabetic retinopathy due to type II diabetes mellitus (disorder)',\n",
       " 314994000: 'Metastasis from malignant tumor of prostate (disorder)',\n",
       " 15724005: 'Fracture of vertebral column without spinal cord injury',\n",
       " 36923009: 'Major depression  single episode',\n",
       " 429280009: 'History of amputation of foot (situation)',\n",
       " 206523001: 'Meconium Ileus',\n",
       " 45816000: 'Pyelonephritis',\n",
       " 433144002: 'Chronic kidney disease stage 3 (disorder)',\n",
       " 157141000119108: 'Proteinuria due to type 2 diabetes mellitus (disorder)',\n",
       " 698754002: 'Chronic paralysis due to lesion of spinal cord',\n",
       " 94260004: 'Secondary malignant neoplasm of colon',\n",
       " 200936003: 'Lupus erythematosus',\n",
       " 161622006: 'History of lower limb amputation (situation)',\n",
       " 127295002: 'Traumatic brain injury (disorder)',\n",
       " 60951000119105: 'Blindness due to type 2 diabetes mellitus (disorder)',\n",
       " 225444004: 'At risk for suicide (finding)',\n",
       " 11218009: 'Infection caused by Pseudomonas aeruginosa',\n",
       " 287182007: 'Attempted suicide - suffocation',\n",
       " 448813005: 'Sepsis caused by Pseudomonas (disorder)',\n",
       " 86849004: 'Suicidal deliberate poisoning',\n",
       " 698423002: 'History of disarticulation at wrist (situation)',\n",
       " 287185009: 'Attempted suicide - cut/stab',\n",
       " 161621004: 'History of upper limb amputation (situation)',\n",
       " 406602003: 'Infection caused by Staphylococcus aureus',\n",
       " 448417001: 'Sepsis caused by Staphylococcus aureus',\n",
       " 425048006: 'Non-small cell carcinoma of lung  TNM stage 2 (disorder)'}"
      ]
     },
     "execution_count": 37,
     "metadata": {},
     "output_type": "execute_result"
    }
   ],
   "source": [
    "conditions"
   ]
  },
  {
   "cell_type": "code",
   "execution_count": 43,
   "id": "c0e2ac46",
   "metadata": {},
   "outputs": [
    {
     "name": "stderr",
     "output_type": "stream",
     "text": [
      "                                                                                \r"
     ]
    },
    {
     "data": {
      "text/plain": [
       "[{47693006, 74400008, 162864005, 428251008, 444814009},\n",
       " {15777000, 53741008, 195662009, 239872002, 271737000, 403190006, 444814009},\n",
       " {65363002, 195662009}]"
      ]
     },
     "execution_count": 43,
     "metadata": {},
     "output_type": "execute_result"
    }
   ],
   "source": [
    "item_baskets = lines.map(lambda x: (x[2], {int(x[4])})) \\\n",
    "                    .reduceByKey(lambda a, b: a | b) \\\n",
    "                    .map(lambda x: x[1])\n",
    "                    \n",
    "\n",
    "item_baskets.take(3)"
   ]
  },
  {
   "cell_type": "code",
   "execution_count": 44,
   "id": "bddf6834",
   "metadata": {},
   "outputs": [
    {
     "name": "stderr",
     "output_type": "stream",
     "text": [
      "                                                                                \r"
     ]
    },
    {
     "data": {
      "text/plain": [
       "1157578"
      ]
     },
     "execution_count": 44,
     "metadata": {},
     "output_type": "execute_result"
    }
   ],
   "source": [
    "total_baskets = item_baskets.count()"
   ]
  },
  {
   "cell_type": "code",
   "execution_count": 12,
   "id": "b0b04794",
   "metadata": {},
   "outputs": [
    {
     "data": {
      "text/plain": [
       "299"
      ]
     },
     "execution_count": 12,
     "metadata": {},
     "output_type": "execute_result"
    }
   ],
   "source": [
    "# Freeing memory\n",
    "del lines\n",
    "gc.collect()"
   ]
  },
  {
   "cell_type": "markdown",
   "id": "e6313ebd",
   "metadata": {},
   "source": [
    "## Apriori Phase 1"
   ]
  },
  {
   "cell_type": "code",
   "execution_count": 45,
   "id": "0883d472-4d16-4a5f-9e62-18b2b995c61b",
   "metadata": {},
   "outputs": [],
   "source": [
    "# Flat listing all the baskets \n",
    "freqItemCounts = item_baskets.flatMap(lambda x: x) \\\n",
    "                    .map(lambda item: (item, 1)) \\\n",
    "                    .reduceByKey(lambda a, b: a + b) \\\n",
    "                    .filter(lambda item: item[1] >= SUPPORT_THRESHOLD) \\\n",
    "                    .sortBy(lambda x: x[1], ascending=False)\n",
    "                    \n",
    "\n",
    "# Mapping -> create pairs (item, 1)\n",
    "#itemPairs = items.map(lambda item: (item, 1))\n",
    "\n",
    "# Reducing\n",
    "#itemCounts = itemPairs.reduceByKey(lambda a, b: a + b)\n",
    "\n",
    "# Keeping only the ones above the support threshold\n",
    "#freqItemCounts = itemCounts.filter(lambda item: item[1] >= SUPPORT_THRESHOLD)\n",
    "\n",
    "\n",
    "# Taking the 10 most frequent itemsets for k = 1\n",
    "#freqItemCounts.takeOrdered(10, key=lambda x: -x[1])"
   ]
  },
  {
   "cell_type": "markdown",
   "id": "d625bfb6",
   "metadata": {},
   "source": [
    "## Intermediate step"
   ]
  },
  {
   "cell_type": "code",
   "execution_count": 46,
   "id": "e0b2a4c2",
   "metadata": {},
   "outputs": [
    {
     "name": "stderr",
     "output_type": "stream",
     "text": [
      "                                                                                \r"
     ]
    },
    {
     "data": {
      "text/plain": [
       "[(444814009, 751940),\n",
       " (195662009, 524692),\n",
       " (10509002, 461495),\n",
       " (162864005, 365567),\n",
       " (271737000, 355372),\n",
       " (15777000, 354315),\n",
       " (59621000, 305134),\n",
       " (40055000, 250239),\n",
       " (72892002, 205390),\n",
       " (19169002, 201894)]"
      ]
     },
     "execution_count": 46,
     "metadata": {},
     "output_type": "execute_result"
    }
   ],
   "source": [
    "# Creating the frequent items table\n",
    "freq_item_count = freqItemCounts.collect()\n",
    "\n",
    "freqItemTable = freqItemCounts.map(lambda x: x[0]).collect()\n",
    "\n",
    "#freqItemTable.take(10)\n",
    "freq_item_count[0:10]"
   ]
  },
  {
   "cell_type": "code",
   "execution_count": 47,
   "id": "3aad0cbc",
   "metadata": {},
   "outputs": [],
   "source": [
    "# In order for a pair to be frequent both its items have to be frequent. \n",
    "# As such, we can remove the unfrequent items from the baskets.\n",
    "\n",
    "# Remove the unfrequent items from the baskets\n",
    "item_baskets = item_baskets.filter(lambda basket: {item for item in basket if item in freqItemTable}) \n",
    "\n",
    "#item_baskets.take(3)"
   ]
  },
  {
   "cell_type": "markdown",
   "id": "8c190970",
   "metadata": {},
   "source": [
    "## Phase 2, k = 2"
   ]
  },
  {
   "cell_type": "code",
   "execution_count": 48,
   "id": "5bbb6607",
   "metadata": {},
   "outputs": [],
   "source": [
    "# Generate all the possible pairs / triples / etc from the\n",
    "# combinations of the items of each basket. \n",
    "\n",
    "def freq_n_uple(basket, k):\n",
    "    candidate_n_uple = itertools.combinations(basket, k)\n",
    "    for n_uple in candidate_n_uple:\n",
    "        yield(n_uple, 1)"
   ]
  },
  {
   "cell_type": "code",
   "execution_count": 49,
   "id": "6def5d61",
   "metadata": {},
   "outputs": [
    {
     "name": "stderr",
     "output_type": "stream",
     "text": [
      "                                                                                \r"
     ]
    },
    {
     "data": {
      "text/plain": [
       "[((15777000, 271737000), 278832),\n",
       " ((10509002, 444814009), 250309),\n",
       " ((15777000, 444814009), 230525),\n",
       " ((271737000, 444814009), 226523),\n",
       " ((162864005, 444814009), 209660),\n",
       " ((59621000, 444814009), 200430),\n",
       " ((444814009, 195662009), 178208),\n",
       " ((195662009, 444814009), 165443),\n",
       " ((15777000, 10509002), 135606),\n",
       " ((162864005, 10509002), 129516)]"
      ]
     },
     "execution_count": 49,
     "metadata": {},
     "output_type": "execute_result"
    }
   ],
   "source": [
    "# counting pairs of frequent items\n",
    "pairs = item_baskets.flatMap(lambda x: freq_n_uple(x, 2)) \\\n",
    "                    .reduceByKey(lambda v1, v2: v1 + v2) \\\n",
    "                    .filter(lambda x: x[1] >= SUPPORT_THRESHOLD) \\\n",
    "                    .sortBy(lambda x: x[1], ascending=False)\n",
    "                    \n",
    "pairs.take(10)"
   ]
  },
  {
   "cell_type": "code",
   "execution_count": 50,
   "id": "ee87e5bc",
   "metadata": {},
   "outputs": [],
   "source": [
    "frequent_pairs_count = pairs.collect()"
   ]
  },
  {
   "cell_type": "code",
   "execution_count": 51,
   "id": "0064d8a9",
   "metadata": {},
   "outputs": [],
   "source": [
    "# Only worth checking for triples in items that are in frequent pairs.\n",
    "# So we create a table similar to the frequent items table in order to remove\n",
    "# unfrequent items from the baskets.\n",
    "freq_pair_table = pairs.flatMap(lambda x: x[0]) \\\n",
    "                        .distinct() \\\n",
    "                        .collect()"
   ]
  },
  {
   "cell_type": "code",
   "execution_count": 52,
   "id": "b36c24c3",
   "metadata": {},
   "outputs": [],
   "source": [
    "# Removing unfrequent items from the baskets and droping baskets \n",
    "# with fewer than 3 items because we need ate least 3 items to make a triple.\n",
    "\n",
    "item_baskets = item_baskets.filter(lambda basket: {item for item in basket if item in freq_pair_table}) \\\n",
    "                            .filter(lambda x: len(x) > 2 )\n",
    "                            \n",
    "\n",
    "#item_baskets.take(3)"
   ]
  },
  {
   "cell_type": "markdown",
   "id": "5a23ef7c",
   "metadata": {},
   "source": [
    "## Phase 2, k = 3"
   ]
  },
  {
   "cell_type": "code",
   "execution_count": 53,
   "id": "6010460a-aeb9-4043-ab60-3abaf9b4bbc9",
   "metadata": {},
   "outputs": [
    {
     "name": "stderr",
     "output_type": "stream",
     "text": [
      "                                                                                \r"
     ]
    },
    {
     "data": {
      "text/plain": [
       "[((15777000, 271737000, 444814009), 175553),\n",
       " ((162864005, 10509002, 444814009), 88613),\n",
       " ((15777000, 10509002, 444814009), 88520),\n",
       " ((15777000, 59621000, 271737000), 84223),\n",
       " ((15777000, 271737000, 195662009), 81251),\n",
       " ((59621000, 271737000, 444814009), 80834),\n",
       " ((15777000, 271737000, 40055000), 77874),\n",
       " ((162864005, 15777000, 271737000), 73514),\n",
       " ((59621000, 10509002, 444814009), 72447),\n",
       " ((162864005, 59621000, 444814009), 68954)]"
      ]
     },
     "execution_count": 53,
     "metadata": {},
     "output_type": "execute_result"
    }
   ],
   "source": [
    "triples = item_baskets.flatMap(lambda x: freq_n_uple(x, 3)) \\\n",
    "                    .reduceByKey(lambda v1, v2: v1 + v2) \\\n",
    "                    .filter(lambda x: x[1] >= SUPPORT_THRESHOLD) \\\n",
    "                    .sortBy(lambda x: x[1], ascending=False)\n",
    "\n",
    "triples.take(10)"
   ]
  },
  {
   "cell_type": "code",
   "execution_count": 54,
   "id": "f9ad1705",
   "metadata": {},
   "outputs": [
    {
     "name": "stderr",
     "output_type": "stream",
     "text": [
      "                                                                                \r"
     ]
    }
   ],
   "source": [
    "frequent_triples = triples.map(lambda x: x[0]).collect()\n",
    "#frequent_triples"
   ]
  },
  {
   "cell_type": "markdown",
   "id": "13a653a8",
   "metadata": {},
   "source": [
    "## Mining Association Rules"
   ]
  },
  {
   "cell_type": "code",
   "execution_count": 55,
   "id": "a741423b",
   "metadata": {},
   "outputs": [],
   "source": [
    "# Helper function to convert the codes to the conditions names\n",
    "def code_to_text(codes):\n",
    "    if isinstance(codes, tuple):\n",
    "        return conditions[codes[0]], conditions[codes[1]]\n",
    "    else:\n",
    "        return conditions[codes]"
   ]
  },
  {
   "cell_type": "code",
   "execution_count": 56,
   "id": "44cce07e",
   "metadata": {},
   "outputs": [
    {
     "name": "stderr",
     "output_type": "stream",
     "text": [
      "                                                                                \r"
     ]
    }
   ],
   "source": [
    "# rules in the form {X,Y} -> {Z} plus the support of {X,Y,Z}\n",
    "pair_rules = triples.flatMap(lambda triple: [(pair, tuple(set(triple[0]) - set(pair))[0], int(triple[1])) for pair in itertools.combinations(triple[0], 2)]).collect()\n",
    "\n",
    "# rules in the form {X} -> {Y} and {Y} -> {X} plus the support of {X,Y}\n",
    "single_rules = [[(pair[0][0], pair[0][1], int(pair[1])), (pair[0][1], pair[0][0], int(pair[1]))]\n",
    "                for pair in frequent_pairs_count]\n",
    "single_rules = list(itertools.chain.from_iterable(single_rules))\n",
    "\n",
    "# Auxiliar lists in order to create the dataframes\n",
    "all_rules = single_rules + pair_rules\n",
    "\n",
    "all_supports = freq_item_count + frequent_pairs_count"
   ]
  },
  {
   "cell_type": "code",
   "execution_count": 57,
   "id": "f4ab6df9",
   "metadata": {},
   "outputs": [],
   "source": [
    "# Auxiliar dataframe to easily map i and j to their respective supports\n",
    "supports = pd.DataFrame(data=all_supports, columns=['i','support'])\n",
    "#supports"
   ]
  },
  {
   "cell_type": "code",
   "execution_count": 58,
   "id": "033f5eb7",
   "metadata": {},
   "outputs": [],
   "source": [
    "# Dataframe used to calculate the metrics for the rules\n",
    "rules = pd.DataFrame(data=all_rules, columns=['i', 'j', 'support_i_j'])\n",
    "#rules"
   ]
  },
  {
   "cell_type": "code",
   "execution_count": 59,
   "id": "c79536fe",
   "metadata": {},
   "outputs": [],
   "source": [
    "rules = pd.merge(rules, supports, on=['i'], how='inner')\n",
    "rules.rename(columns={'support': 'support_i'}, inplace=True)\n",
    "supports.rename(columns={'i': 'j'}, inplace=True)\n",
    "\n",
    "rules = pd.merge(rules, supports, on=['j'], how='inner')\n",
    "rules.rename(columns={'support': 'support_j'}, inplace=True)\n",
    "rules.sort_values(by=['support_i_j'], inplace=True, ascending=False)\n",
    "#rules"
   ]
  },
  {
   "cell_type": "code",
   "execution_count": 60,
   "id": "b2a45c4e",
   "metadata": {},
   "outputs": [],
   "source": [
    "rules['i'] = rules['i'].apply(lambda x: code_to_text(x))\n",
    "rules['j'] = rules['j'].apply(lambda x: code_to_text(x))"
   ]
  },
  {
   "cell_type": "code",
   "execution_count": 61,
   "id": "5801527e",
   "metadata": {},
   "outputs": [],
   "source": [
    "# Auxiliar columns containing the probabilities of i and j\n",
    "rules['prob_i'] = rules.support_i / total_baskets\n",
    "rules['prob_j'] = rules.support_j / total_baskets\n",
    "# Confidence\n",
    "rules['confidence'] = rules.support_i_j / rules.support_i\n",
    "# Interest\n",
    "rules['interest'] = rules.confidence - rules.prob_j\n",
    "# Lift\n",
    "rules['lift'] = rules.confidence / rules.prob_j\n",
    "# Auxiliar calculation to simplify the std_lift expression\n",
    "rules['aux_calc'] = np.maximum(rules.prob_i + rules.prob_j - 1, 1 / total_baskets) / (rules.prob_i * rules.prob_j)\n",
    "# Standard Lift\n",
    "rules['std_lift'] = (rules.lift - rules.aux_calc) / ((1 / np.maximum(rules.prob_i, rules.prob_j)) - rules.aux_calc)\n",
    "\n",
    "#rules"
   ]
  },
  {
   "cell_type": "code",
   "execution_count": 62,
   "id": "ca20dd30",
   "metadata": {},
   "outputs": [
    {
     "data": {
      "text/html": [
       "<div>\n",
       "<style scoped>\n",
       "    .dataframe tbody tr th:only-of-type {\n",
       "        vertical-align: middle;\n",
       "    }\n",
       "\n",
       "    .dataframe tbody tr th {\n",
       "        vertical-align: top;\n",
       "    }\n",
       "\n",
       "    .dataframe thead th {\n",
       "        text-align: right;\n",
       "    }\n",
       "</style>\n",
       "<table border=\"1\" class=\"dataframe\">\n",
       "  <thead>\n",
       "    <tr style=\"text-align: right;\">\n",
       "      <th></th>\n",
       "      <th>i</th>\n",
       "      <th>j</th>\n",
       "      <th>confidence</th>\n",
       "      <th>interest</th>\n",
       "      <th>lift</th>\n",
       "      <th>std_lift</th>\n",
       "    </tr>\n",
       "  </thead>\n",
       "  <tbody>\n",
       "    <tr>\n",
       "      <th>0</th>\n",
       "      <td>Hypertriglyceridemia (disorder)</td>\n",
       "      <td>Nonproliferative diabetic retinopathy due to t...</td>\n",
       "      <td>0.154029</td>\n",
       "      <td>0.143918</td>\n",
       "      <td>15.232893</td>\n",
       "      <td>1.000000</td>\n",
       "    </tr>\n",
       "    <tr>\n",
       "      <th>1</th>\n",
       "      <td>Diabetes</td>\n",
       "      <td>Diabetic retinopathy associated with type II d...</td>\n",
       "      <td>0.264611</td>\n",
       "      <td>0.246939</td>\n",
       "      <td>14.973974</td>\n",
       "      <td>1.000000</td>\n",
       "    </tr>\n",
       "    <tr>\n",
       "      <th>2</th>\n",
       "      <td>Hypertriglyceridemia (disorder)</td>\n",
       "      <td>Proliferative diabetic retinopathy due to type...</td>\n",
       "      <td>0.039938</td>\n",
       "      <td>0.037317</td>\n",
       "      <td>15.232893</td>\n",
       "      <td>1.000000</td>\n",
       "    </tr>\n",
       "    <tr>\n",
       "      <th>3</th>\n",
       "      <td>Diabetes</td>\n",
       "      <td>Nonproliferative diabetic retinopathy due to t...</td>\n",
       "      <td>0.151411</td>\n",
       "      <td>0.141300</td>\n",
       "      <td>14.973974</td>\n",
       "      <td>1.000000</td>\n",
       "    </tr>\n",
       "    <tr>\n",
       "      <th>4</th>\n",
       "      <td>(Diabetic retinopathy associated with type II ...</td>\n",
       "      <td>Nonproliferative diabetic retinopathy due to t...</td>\n",
       "      <td>0.572204</td>\n",
       "      <td>0.562092</td>\n",
       "      <td>56.588678</td>\n",
       "      <td>1.000000</td>\n",
       "    </tr>\n",
       "    <tr>\n",
       "      <th>...</th>\n",
       "      <td>...</td>\n",
       "      <td>...</td>\n",
       "      <td>...</td>\n",
       "      <td>...</td>\n",
       "      <td>...</td>\n",
       "      <td>...</td>\n",
       "    </tr>\n",
       "    <tr>\n",
       "      <th>23699</th>\n",
       "      <td>Seasonal allergic rhinitis</td>\n",
       "      <td>Childhood asthma</td>\n",
       "      <td>0.200157</td>\n",
       "      <td>0.177908</td>\n",
       "      <td>8.996198</td>\n",
       "      <td>0.200105</td>\n",
       "    </tr>\n",
       "    <tr>\n",
       "      <th>23700</th>\n",
       "      <td>Childhood asthma</td>\n",
       "      <td>Seasonal allergic rhinitis</td>\n",
       "      <td>0.118967</td>\n",
       "      <td>0.105743</td>\n",
       "      <td>8.996198</td>\n",
       "      <td>0.200105</td>\n",
       "    </tr>\n",
       "    <tr>\n",
       "      <th>23701</th>\n",
       "      <td>(Hypertriglyceridemia (disorder), Metabolic sy...</td>\n",
       "      <td>Miscarriage in first trimester</td>\n",
       "      <td>0.200103</td>\n",
       "      <td>0.025692</td>\n",
       "      <td>1.147309</td>\n",
       "      <td>0.200088</td>\n",
       "    </tr>\n",
       "    <tr>\n",
       "      <th>23702</th>\n",
       "      <td>(Epilepsy, Acute viral pharyngitis (disorder))</td>\n",
       "      <td>Chronic sinusitis (disorder)</td>\n",
       "      <td>0.200222</td>\n",
       "      <td>-0.015953</td>\n",
       "      <td>0.926205</td>\n",
       "      <td>0.200074</td>\n",
       "    </tr>\n",
       "    <tr>\n",
       "      <th>23703</th>\n",
       "      <td>(Pulmonary emphysema (disorder), Anemia (disor...</td>\n",
       "      <td>Miscarriage in first trimester</td>\n",
       "      <td>0.200158</td>\n",
       "      <td>0.025747</td>\n",
       "      <td>1.147624</td>\n",
       "      <td>0.200032</td>\n",
       "    </tr>\n",
       "  </tbody>\n",
       "</table>\n",
       "<p>23704 rows × 6 columns</p>\n",
       "</div>"
      ],
      "text/plain": [
       "                                                       i  \\\n",
       "0                        Hypertriglyceridemia (disorder)   \n",
       "1                                               Diabetes   \n",
       "2                        Hypertriglyceridemia (disorder)   \n",
       "3                                               Diabetes   \n",
       "4      (Diabetic retinopathy associated with type II ...   \n",
       "...                                                  ...   \n",
       "23699                         Seasonal allergic rhinitis   \n",
       "23700                                   Childhood asthma   \n",
       "23701  (Hypertriglyceridemia (disorder), Metabolic sy...   \n",
       "23702     (Epilepsy, Acute viral pharyngitis (disorder))   \n",
       "23703  (Pulmonary emphysema (disorder), Anemia (disor...   \n",
       "\n",
       "                                                       j  confidence  \\\n",
       "0      Nonproliferative diabetic retinopathy due to t...    0.154029   \n",
       "1      Diabetic retinopathy associated with type II d...    0.264611   \n",
       "2      Proliferative diabetic retinopathy due to type...    0.039938   \n",
       "3      Nonproliferative diabetic retinopathy due to t...    0.151411   \n",
       "4      Nonproliferative diabetic retinopathy due to t...    0.572204   \n",
       "...                                                  ...         ...   \n",
       "23699                                   Childhood asthma    0.200157   \n",
       "23700                         Seasonal allergic rhinitis    0.118967   \n",
       "23701                     Miscarriage in first trimester    0.200103   \n",
       "23702                       Chronic sinusitis (disorder)    0.200222   \n",
       "23703                     Miscarriage in first trimester    0.200158   \n",
       "\n",
       "       interest       lift  std_lift  \n",
       "0      0.143918  15.232893  1.000000  \n",
       "1      0.246939  14.973974  1.000000  \n",
       "2      0.037317  15.232893  1.000000  \n",
       "3      0.141300  14.973974  1.000000  \n",
       "4      0.562092  56.588678  1.000000  \n",
       "...         ...        ...       ...  \n",
       "23699  0.177908   8.996198  0.200105  \n",
       "23700  0.105743   8.996198  0.200105  \n",
       "23701  0.025692   1.147309  0.200088  \n",
       "23702 -0.015953   0.926205  0.200074  \n",
       "23703  0.025747   1.147624  0.200032  \n",
       "\n",
       "[23704 rows x 6 columns]"
      ]
     },
     "execution_count": 62,
     "metadata": {},
     "output_type": "execute_result"
    }
   ],
   "source": [
    "rules.drop(columns=['support_i', 'support_j', 'support_i_j', 'prob_i', 'prob_j', 'aux_calc'], inplace=True)\n",
    "rules.sort_values(by=['std_lift'], ascending=False, inplace=True)\n",
    "rules.reset_index(inplace=True, drop=True)\n",
    "rules = rules.loc[rules.std_lift > 0.2]\n",
    "rules\n"
   ]
  },
  {
   "cell_type": "code",
   "execution_count": 63,
   "id": "33f1e53f",
   "metadata": {},
   "outputs": [
    {
     "data": {
      "text/html": [
       "<div>\n",
       "<style scoped>\n",
       "    .dataframe tbody tr th:only-of-type {\n",
       "        vertical-align: middle;\n",
       "    }\n",
       "\n",
       "    .dataframe tbody tr th {\n",
       "        vertical-align: top;\n",
       "    }\n",
       "\n",
       "    .dataframe thead th {\n",
       "        text-align: right;\n",
       "    }\n",
       "</style>\n",
       "<table border=\"1\" class=\"dataframe\">\n",
       "  <thead>\n",
       "    <tr style=\"text-align: right;\">\n",
       "      <th></th>\n",
       "      <th>i</th>\n",
       "      <th>j</th>\n",
       "      <th>confidence</th>\n",
       "      <th>interest</th>\n",
       "      <th>lift</th>\n",
       "      <th>std_lift</th>\n",
       "    </tr>\n",
       "  </thead>\n",
       "  <tbody>\n",
       "    <tr>\n",
       "      <th>2532</th>\n",
       "      <td>Prediabetes</td>\n",
       "      <td>Hyperglycemia (disorder)</td>\n",
       "      <td>0.081222</td>\n",
       "      <td>0.050791</td>\n",
       "      <td>2.669058</td>\n",
       "      <td>0.816948</td>\n",
       "    </tr>\n",
       "    <tr>\n",
       "      <th>2805</th>\n",
       "      <td>Prediabetes</td>\n",
       "      <td>Anemia (disorder)</td>\n",
       "      <td>0.786961</td>\n",
       "      <td>0.479965</td>\n",
       "      <td>2.563422</td>\n",
       "      <td>0.786960</td>\n",
       "    </tr>\n",
       "    <tr>\n",
       "      <th>3659</th>\n",
       "      <td>Prediabetes</td>\n",
       "      <td>Proliferative diabetic retinopathy due to type...</td>\n",
       "      <td>0.006082</td>\n",
       "      <td>0.003460</td>\n",
       "      <td>2.319793</td>\n",
       "      <td>0.709954</td>\n",
       "    </tr>\n",
       "    <tr>\n",
       "      <th>3905</th>\n",
       "      <td>Prediabetes</td>\n",
       "      <td>Nonproliferative diabetic retinopathy due to t...</td>\n",
       "      <td>0.022790</td>\n",
       "      <td>0.012679</td>\n",
       "      <td>2.253885</td>\n",
       "      <td>0.689850</td>\n",
       "    </tr>\n",
       "    <tr>\n",
       "      <th>4554</th>\n",
       "      <td>Prediabetes</td>\n",
       "      <td>Neuropathy due to type 2 diabetes mellitus (di...</td>\n",
       "      <td>0.050091</td>\n",
       "      <td>0.026957</td>\n",
       "      <td>2.165289</td>\n",
       "      <td>0.662746</td>\n",
       "    </tr>\n",
       "    <tr>\n",
       "      <th>...</th>\n",
       "      <td>...</td>\n",
       "      <td>...</td>\n",
       "      <td>...</td>\n",
       "      <td>...</td>\n",
       "      <td>...</td>\n",
       "      <td>...</td>\n",
       "    </tr>\n",
       "    <tr>\n",
       "      <th>21651</th>\n",
       "      <td>Prediabetes</td>\n",
       "      <td>Antepartum eclampsia</td>\n",
       "      <td>0.015040</td>\n",
       "      <td>-0.004602</td>\n",
       "      <td>0.765692</td>\n",
       "      <td>0.234332</td>\n",
       "    </tr>\n",
       "    <tr>\n",
       "      <th>22696</th>\n",
       "      <td>Prediabetes</td>\n",
       "      <td>Recurrent urinary tract infection</td>\n",
       "      <td>0.006172</td>\n",
       "      <td>-0.002571</td>\n",
       "      <td>0.705970</td>\n",
       "      <td>0.216008</td>\n",
       "    </tr>\n",
       "    <tr>\n",
       "      <th>22733</th>\n",
       "      <td>Prediabetes</td>\n",
       "      <td>Bullet wound</td>\n",
       "      <td>0.004637</td>\n",
       "      <td>-0.001953</td>\n",
       "      <td>0.703608</td>\n",
       "      <td>0.215260</td>\n",
       "    </tr>\n",
       "    <tr>\n",
       "      <th>23169</th>\n",
       "      <td>Prediabetes</td>\n",
       "      <td>Chronic pain</td>\n",
       "      <td>0.032341</td>\n",
       "      <td>-0.015149</td>\n",
       "      <td>0.681005</td>\n",
       "      <td>0.208430</td>\n",
       "    </tr>\n",
       "    <tr>\n",
       "      <th>23260</th>\n",
       "      <td>Prediabetes</td>\n",
       "      <td>Fetus with unknown complication</td>\n",
       "      <td>0.021012</td>\n",
       "      <td>-0.010072</td>\n",
       "      <td>0.675971</td>\n",
       "      <td>0.206881</td>\n",
       "    </tr>\n",
       "  </tbody>\n",
       "</table>\n",
       "<p>116 rows × 6 columns</p>\n",
       "</div>"
      ],
      "text/plain": [
       "                 i                                                  j  \\\n",
       "2532   Prediabetes                           Hyperglycemia (disorder)   \n",
       "2805   Prediabetes                                  Anemia (disorder)   \n",
       "3659   Prediabetes  Proliferative diabetic retinopathy due to type...   \n",
       "3905   Prediabetes  Nonproliferative diabetic retinopathy due to t...   \n",
       "4554   Prediabetes  Neuropathy due to type 2 diabetes mellitus (di...   \n",
       "...            ...                                                ...   \n",
       "21651  Prediabetes                               Antepartum eclampsia   \n",
       "22696  Prediabetes                  Recurrent urinary tract infection   \n",
       "22733  Prediabetes                                       Bullet wound   \n",
       "23169  Prediabetes                                       Chronic pain   \n",
       "23260  Prediabetes                    Fetus with unknown complication   \n",
       "\n",
       "       confidence  interest      lift  std_lift  \n",
       "2532     0.081222  0.050791  2.669058  0.816948  \n",
       "2805     0.786961  0.479965  2.563422  0.786960  \n",
       "3659     0.006082  0.003460  2.319793  0.709954  \n",
       "3905     0.022790  0.012679  2.253885  0.689850  \n",
       "4554     0.050091  0.026957  2.165289  0.662746  \n",
       "...           ...       ...       ...       ...  \n",
       "21651    0.015040 -0.004602  0.765692  0.234332  \n",
       "22696    0.006172 -0.002571  0.705970  0.216008  \n",
       "22733    0.004637 -0.001953  0.703608  0.215260  \n",
       "23169    0.032341 -0.015149  0.681005  0.208430  \n",
       "23260    0.021012 -0.010072  0.675971  0.206881  \n",
       "\n",
       "[116 rows x 6 columns]"
      ]
     },
     "execution_count": 63,
     "metadata": {},
     "output_type": "execute_result"
    }
   ],
   "source": [
    "rules[rules['i']== 'Prediabetes']"
   ]
  },
  {
   "cell_type": "code",
   "execution_count": null,
   "id": "c53488bb",
   "metadata": {},
   "outputs": [],
   "source": []
  }
 ],
 "metadata": {
  "kernelspec": {
   "display_name": "Python 3 (ipykernel)",
   "language": "python",
   "name": "python3"
  },
  "language_info": {
   "codemirror_mode": {
    "name": "ipython",
    "version": 3
   },
   "file_extension": ".py",
   "mimetype": "text/x-python",
   "name": "python",
   "nbconvert_exporter": "python",
   "pygments_lexer": "ipython3",
   "version": "3.8.2"
  }
 },
 "nbformat": 4,
 "nbformat_minor": 5
}
