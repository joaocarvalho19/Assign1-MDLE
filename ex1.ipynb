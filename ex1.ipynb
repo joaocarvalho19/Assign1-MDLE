{
 "cells": [
  {
   "cell_type": "code",
   "execution_count": 2,
   "id": "5cbc68de-a9f3-41e8-abee-15292954043a",
   "metadata": {},
   "outputs": [],
   "source": [
    "from pyspark import SparkContext"
   ]
  },
  {
   "cell_type": "code",
   "execution_count": 3,
   "id": "52d963de-c63d-4e79-bf41-29ee838b2dac",
   "metadata": {},
   "outputs": [],
   "source": [
    "sc = SparkContext(appName=\"Assignment1\")"
   ]
  },
  {
   "cell_type": "code",
   "execution_count": 4,
   "id": "62fdba0c-9088-41c2-83e9-043ee639a616",
   "metadata": {},
   "outputs": [],
   "source": [
    "#hdfs dfs -mkdir -p data\n",
    "#hdfs dfs -put data/small_conditions.csv data/"
   ]
  },
  {
   "cell_type": "code",
   "execution_count": 5,
   "id": "50b4d70d-ebd0-41cf-9abb-e0287cc0160b",
   "metadata": {},
   "outputs": [],
   "source": [
    "SUPPORT_THRESHOLD = 100\n",
    "data = sc.textFile(\"data/small_conditions.csv\")\n",
    "header = data.first() #extract header"
   ]
  },
  {
   "cell_type": "code",
   "execution_count": 19,
   "id": "0883d472-4d16-4a5f-9e62-18b2b995c61b",
   "metadata": {},
   "outputs": [],
   "source": [
    "# Apriori Phase 1\n",
    "\n",
    "items = data.filter(lambda row : row != header)\\\n",
    "        .flatMap(lambda line: line.split(\",\"))\n",
    "itemPairs = items.map(lambda item: (item, 1))\n",
    "itemCounts = itemPairs.reduceByKey(lambda a, b: a + b)\n",
    "freqItemCounts = itemCounts.filter(lambda item: item[1] >= SUPPORT_THRESHOLD)"
   ]
  },
  {
   "cell_type": "code",
   "execution_count": 13,
   "id": "cce0576c-4104-4fda-9121-9ad72d79dbc1",
   "metadata": {},
   "outputs": [
    {
     "data": {
      "text/plain": [
       "[('', 783),\n",
       " ('444814009', 320),\n",
       " ('Viral sinusitis (disorder)', 320),\n",
       " ('195662009', 193),\n",
       " ('Acute viral pharyngitis (disorder)', 193),\n",
       " ('10509002', 143),\n",
       " ('Acute bronchitis (disorder)', 143),\n",
       " ('72892002', 142),\n",
       " ('Normal pregnancy', 142),\n",
       " ('Body mass index 30+ - obesity (finding)', 90)]"
      ]
     },
     "execution_count": 13,
     "metadata": {},
     "output_type": "execute_result"
    }
   ],
   "source": [
    "itemCounts.takeOrdered(10, key=lambda x: -x[1]) #Most frequent items"
   ]
  },
  {
   "cell_type": "code",
   "execution_count": 20,
   "id": "c28f2a9e-8195-40e1-89f0-eed336253d35",
   "metadata": {},
   "outputs": [
    {
     "data": {
      "text/plain": [
       "[('10509002', 143),\n",
       " ('', 783),\n",
       " ('195662009', 193),\n",
       " ('Acute viral pharyngitis (disorder)', 193),\n",
       " ('444814009', 320),\n",
       " ('Viral sinusitis (disorder)', 320),\n",
       " ('Acute bronchitis (disorder)', 143),\n",
       " ('72892002', 142),\n",
       " ('Normal pregnancy', 142)]"
      ]
     },
     "execution_count": 20,
     "metadata": {},
     "output_type": "execute_result"
    }
   ],
   "source": [
    "freqItemCounts.collect()"
   ]
  },
  {
   "cell_type": "code",
   "execution_count": 21,
   "id": "8acbc84f-3de5-4b03-ac5c-403820fb864b",
   "metadata": {},
   "outputs": [],
   "source": [
    "# Phase 2 ..."
   ]
  },
  {
   "cell_type": "code",
   "execution_count": null,
   "id": "6010460a-aeb9-4043-ab60-3abaf9b4bbc9",
   "metadata": {},
   "outputs": [],
   "source": []
  }
 ],
 "metadata": {
  "kernelspec": {
   "display_name": "Python 3 (ipykernel)",
   "language": "python",
   "name": "python3"
  },
  "language_info": {
   "codemirror_mode": {
    "name": "ipython",
    "version": 3
   },
   "file_extension": ".py",
   "mimetype": "text/x-python",
   "name": "python",
   "nbconvert_exporter": "python",
   "pygments_lexer": "ipython3",
   "version": "3.9.10"
  }
 },
 "nbformat": 4,
 "nbformat_minor": 5
}
