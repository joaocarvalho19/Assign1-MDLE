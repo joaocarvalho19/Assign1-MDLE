{
 "cells": [
  {
   "cell_type": "code",
   "execution_count": 1,
   "id": "5cbc68de-a9f3-41e8-abee-15292954043a",
   "metadata": {},
   "outputs": [],
   "source": [
    "from pyspark import SparkContext"
   ]
  },
  {
   "cell_type": "code",
   "execution_count": 2,
   "id": "52d963de-c63d-4e79-bf41-29ee838b2dac",
   "metadata": {},
   "outputs": [
    {
     "name": "stderr",
     "output_type": "stream",
     "text": [
      "WARNING: An illegal reflective access operation has occurred\n",
      "WARNING: Illegal reflective access by org.apache.spark.unsafe.Platform (file:/Users/luismiguel/opt/anaconda3/lib/python3.8/site-packages/pyspark/jars/spark-unsafe_2.12-3.2.1.jar) to constructor java.nio.DirectByteBuffer(long,int)\n",
      "WARNING: Please consider reporting this to the maintainers of org.apache.spark.unsafe.Platform\n",
      "WARNING: Use --illegal-access=warn to enable warnings of further illegal reflective access operations\n",
      "WARNING: All illegal access operations will be denied in a future release\n",
      "Using Spark's default log4j profile: org/apache/spark/log4j-defaults.properties\n",
      "Setting default log level to \"WARN\".\n",
      "To adjust logging level use sc.setLogLevel(newLevel). For SparkR, use setLogLevel(newLevel).\n",
      "22/03/29 17:44:59 WARN NativeCodeLoader: Unable to load native-hadoop library for your platform... using builtin-java classes where applicable\n"
     ]
    }
   ],
   "source": [
    "sc = SparkContext(appName=\"Assignment1\")"
   ]
  },
  {
   "cell_type": "code",
   "execution_count": 4,
   "id": "62fdba0c-9088-41c2-83e9-043ee639a616",
   "metadata": {},
   "outputs": [],
   "source": [
    "#hdfs dfs -mkdir -p data\n",
    "#hdfs dfs -put data/small_conditions.csv data/"
   ]
  },
  {
   "cell_type": "code",
   "execution_count": 3,
   "id": "50b4d70d-ebd0-41cf-9abb-e0287cc0160b",
   "metadata": {},
   "outputs": [
    {
     "name": "stderr",
     "output_type": "stream",
     "text": [
      "                                                                                \r"
     ]
    }
   ],
   "source": [
    "SUPPORT_THRESHOLD = 100\n",
    "data = sc.textFile(\"data/small_conditions.csv\")\n",
    "header = data.first() #extract header"
   ]
  },
  {
   "cell_type": "code",
   "execution_count": null,
   "id": "88201ec2",
   "metadata": {},
   "outputs": [],
   "source": [
    "# START,STOP,PATIENT,ENCOUNTER,CODE,DESCRIPTION\n",
    "# PATIENT is the patient identifier\n",
    "# CODE is a condition identifier \n",
    "# DESCRIPTION is the name of the condition"
   ]
  },
  {
   "cell_type": "code",
   "execution_count": 16,
   "id": "0883d472-4d16-4a5f-9e62-18b2b995c61b",
   "metadata": {},
   "outputs": [
    {
     "data": {
      "text/plain": [
       "[('2017-01-14', 2),\n",
       " ('Otitis media', 48),\n",
       " ('2012-09-16', 2),\n",
       " ('241929008', 8),\n",
       " ('2018-06-17', 1),\n",
       " ('2018-06-24', 2),\n",
       " ('2019-08-02', 1),\n",
       " ('667a94d9-6aa1-4b6f-bc38-8ec8a111d946', 1),\n",
       " ('33737001', 2),\n",
       " ('Fracture of rib', 2)]"
      ]
     },
     "execution_count": 16,
     "metadata": {},
     "output_type": "execute_result"
    }
   ],
   "source": [
    "# Apriori Phase 1\n",
    "\n",
    "# remove header and split by the comma\n",
    "items = data.filter(lambda row : row != header)\\\n",
    "        .flatMap(lambda line: line.split(\",\"))\n",
    "# Mapping -> create pairs (item, 1)\n",
    "itemPairs = items.map(lambda item: (item, 1))\n",
    "# Reducing\n",
    "itemCounts = itemPairs.reduceByKey(lambda a, b: a + b)\n",
    "# Keeping only the ones above the support threshold\n",
    "freqItemCounts = itemCounts.filter(lambda item: item[1] >= SUPPORT_THRESHOLD)\n",
    "#items.take(12)\n",
    "itemCounts.take(10)"
   ]
  },
  {
   "cell_type": "code",
   "execution_count": 13,
   "id": "73061730",
   "metadata": {},
   "outputs": [],
   "source": [
    "# flatMap fica no formato fica numa lista única, pode não dar jeito para o A-priori por causa dos baskets\n",
    "#### Ver isto melhor"
   ]
  },
  {
   "cell_type": "code",
   "execution_count": 5,
   "id": "cce0576c-4104-4fda-9121-9ad72d79dbc1",
   "metadata": {},
   "outputs": [
    {
     "data": {
      "text/plain": [
       "[('', 783),\n",
       " ('444814009', 320),\n",
       " ('Viral sinusitis (disorder)', 320),\n",
       " ('195662009', 193),\n",
       " ('Acute viral pharyngitis (disorder)', 193),\n",
       " ('10509002', 143),\n",
       " ('Acute bronchitis (disorder)', 143),\n",
       " ('72892002', 142),\n",
       " ('Normal pregnancy', 142),\n",
       " ('Body mass index 30+ - obesity (finding)', 90)]"
      ]
     },
     "execution_count": 5,
     "metadata": {},
     "output_type": "execute_result"
    }
   ],
   "source": [
    "itemCounts.takeOrdered(10, key=lambda x: -x[1]) #Most frequent items"
   ]
  },
  {
   "cell_type": "code",
   "execution_count": 6,
   "id": "c28f2a9e-8195-40e1-89f0-eed336253d35",
   "metadata": {},
   "outputs": [
    {
     "data": {
      "text/plain": [
       "[('10509002', 143),\n",
       " ('', 783),\n",
       " ('195662009', 193),\n",
       " ('Acute viral pharyngitis (disorder)', 193),\n",
       " ('444814009', 320),\n",
       " ('Viral sinusitis (disorder)', 320),\n",
       " ('Acute bronchitis (disorder)', 143),\n",
       " ('72892002', 142),\n",
       " ('Normal pregnancy', 142)]"
      ]
     },
     "execution_count": 6,
     "metadata": {},
     "output_type": "execute_result"
    }
   ],
   "source": [
    "freqItemCounts.collect()"
   ]
  },
  {
   "cell_type": "code",
   "execution_count": 21,
   "id": "8acbc84f-3de5-4b03-ac5c-403820fb864b",
   "metadata": {},
   "outputs": [],
   "source": [
    "# Phase 2 ..."
   ]
  },
  {
   "cell_type": "code",
   "execution_count": null,
   "id": "6010460a-aeb9-4043-ab60-3abaf9b4bbc9",
   "metadata": {},
   "outputs": [],
   "source": []
  }
 ],
 "metadata": {
  "kernelspec": {
   "display_name": "Python 3 (ipykernel)",
   "language": "python",
   "name": "python3"
  },
  "language_info": {
   "codemirror_mode": {
    "name": "ipython",
    "version": 3
   },
   "file_extension": ".py",
   "mimetype": "text/x-python",
   "name": "python",
   "nbconvert_exporter": "python",
   "pygments_lexer": "ipython3",
   "version": "3.8.2"
  }
 },
 "nbformat": 4,
 "nbformat_minor": 5
}
